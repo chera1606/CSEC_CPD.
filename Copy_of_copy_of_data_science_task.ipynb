{
  "nbformat": 4,
  "nbformat_minor": 0,
  "metadata": {
    "colab": {
      "provenance": [],
      "include_colab_link": true
    },
    "kernelspec": {
      "name": "python3",
      "display_name": "Python 3"
    },
    "language_info": {
      "name": "python"
    }
  },
  "cells": [
    {
      "cell_type": "markdown",
      "metadata": {
        "id": "view-in-github",
        "colab_type": "text"
      },
      "source": [
        "<a href=\"https://colab.research.google.com/github/chera1606/CSEC_CPD./blob/main/Copy_of_copy_of_data_science_task.ipynb\" target=\"_parent\"><img src=\"https://colab.research.google.com/assets/colab-badge.svg\" alt=\"Open In Colab\"/></a>"
      ]
    },
    {
      "cell_type": "markdown",
      "source": [
        "1.Different between a list,a dictionary and a NumPy array .\n",
        "\n",
        "List is a collection of similar or different types of data items.\n",
        "A list is created by placing items inside [](square bracket) separated by commas.\n",
        "A list can have duplicate items.\n",
        "Elements in a list are accessed by index.\n",
        "Items in a list are mutable(can be changed).\n",
        "We can also store items of various types , meaning we can store int,float,strings ...in a single list .\n",
        "Eg.A list of 10 natural numbers.\n",
        "Numbes=[1,2,3,4,5,6,7,8,9,10]\n",
        "Print(Numbers[2])   #output will be 3\n",
        "\n",
        "Dictionary is a collection of key-value pairs .\n",
        "Elements are accessed using keys.\n",
        "The key in a key value pair acts as a unique identifier and a value can be any Python object\n",
        "Dictionaries allow us to store and retrieve values based on their keys providing a way to map and organize data efficiently.\n",
        "Cannot have two items with same key ( duplicates are not allowed in a dictionary ).\n",
        "Dictionaries are also mutable .\n",
        "Example.  dict_car{ ' Brand ' : ' Toyota ' , ' Model ' : ' Corolla ' }\n",
        "\n",
        "\n",
        "\n",
        "NumPy(stands for numerical Python) is a library in Python used for numerical computing .\n",
        "It store elements of the same data type usually numbers\n",
        "Faster for numerical computations because it uses optimized libraries , much faster than lists due to their implementation in c.\n",
        "NumPy arrays are also more memory efficient for large datasets because they store data in contiguous blocks of memory\n",
        "NumPy arrays are mutable and have a fixed size\n",
        "It support for large mathematical functions to operate and  mostly  used for scientific computing\n",
        "Example .\n",
        "import numpy as np\n",
        "My_array=np.array([1,2,3,4,5,])"
      ],
      "metadata": {
        "id": "I58MhxDdD1Ji"
      }
    },
    {
      "cell_type": "code",
      "source": [
        "#2.\n",
        "def square_of_even_numbers(numbers):\n",
        "    even_squares=[num**2 for num in numbers if num%2==0]\n",
        "    return even_squares\n",
        "numbers=[10,15,20,25,30]\n",
        "result = square_of_even_numbers(numbers)\n",
        "print(result)"
      ],
      "metadata": {
        "colab": {
          "base_uri": "https://localhost:8080/"
        },
        "id": "5O6brKRPGqz_",
        "outputId": "2def82f5-7b87-4ff1-c7a0-1f032fdeec6a"
      },
      "execution_count": null,
      "outputs": [
        {
          "output_type": "stream",
          "name": "stdout",
          "text": [
            "[100, 400, 900]\n"
          ]
        }
      ]
    },
    {
      "cell_type": "markdown",
      "source": [
        "3.\n",
        "The output is [1,2,3 4]\n",
        "And the reason is both x and y point to the same list we are not creating a new copy of x ,and when we modify it using y.append(4), the change is reflected in both x and y ,the method(function) called append(4) adding a value 4 to the end of the list."
      ],
      "metadata": {
        "id": "fOL2APqdJgOr"
      }
    },
    {
      "cell_type": "markdown",
      "source": [
        "4.\n",
        ".shape :of a pandas data frames tell us the numbers of rows and columns in a data frames.It represent the result in (rows,columns) form\n",
        ".describe() :gives a summary for numerical columns in a DataFrame it tell us values like count number of values , min and max value , std(standard deviation), mean(average value), 20% 50% 75% of values."
      ],
      "metadata": {
        "id": "WRrlzN70OdFN"
      }
    },
    {
      "cell_type": "code",
      "source": [
        "import pandas as pd\n",
        "data = {\n",
        "     'Name ' : ['Charinet', 'Bareket' ,'Sami','Dawit'],\n",
        "     'Math' : [85,90,78,92],\n",
        "     'English' : [88,85,82,95]\n",
        "}\n",
        "df = pd.DataFrame(data)\n",
        "print(df.shape)\n",
        "print(df.describe())"
      ],
      "metadata": {
        "colab": {
          "base_uri": "https://localhost:8080/"
        },
        "id": "yOhl2E9eQrn4",
        "outputId": "b6edf94b-3705-4868-8cd0-759c24df5305"
      },
      "execution_count": null,
      "outputs": [
        {
          "output_type": "stream",
          "name": "stdout",
          "text": [
            "(4, 3)\n",
            "            Math    English\n",
            "count   4.000000   4.000000\n",
            "mean   86.250000  87.500000\n",
            "std     6.238322   5.567764\n",
            "min    78.000000  82.000000\n",
            "25%    83.250000  84.250000\n",
            "50%    87.500000  86.500000\n",
            "75%    90.500000  89.750000\n",
            "max    92.000000  95.000000\n"
          ]
        }
      ]
    },
    {
      "cell_type": "code",
      "source": [
        "import pandas as pd"
      ],
      "metadata": {
        "id": "_WbBACUlUFaO"
      },
      "execution_count": null,
      "outputs": []
    },
    {
      "cell_type": "code",
      "source": [
        "path=\"https://people.sc.fsu.edu/~jburkardt/data/csv/airtravel.csv\"\n",
        "df=pd.read_csv(path)\n",
        "print(df.head(5))"
      ],
      "metadata": {
        "colab": {
          "base_uri": "https://localhost:8080/"
        },
        "id": "SnOhS3GmUQu3",
        "outputId": "0eddc277-8f0f-4897-d63b-260a0574822c"
      },
      "execution_count": null,
      "outputs": [
        {
          "output_type": "stream",
          "name": "stdout",
          "text": [
            "  Month   \"1958\"   \"1959\"   \"1960\"\n",
            "0   JAN      340      360      417\n",
            "1   FEB      318      342      391\n",
            "2   MAR      362      406      419\n",
            "3   APR      348      396      461\n",
            "4   MAY      363      420      472\n"
          ]
        }
      ]
    },
    {
      "cell_type": "markdown",
      "source": [
        "I notice that:\n",
        "It shows me monthly air travel data(numbers of passengers).\n",
        "-The columns are years 1958, 1959 ,1960\n",
        "-The rows are months from JAN to DEC"
      ],
      "metadata": {
        "id": "dlnBJLH1WD7X"
      }
    },
    {
      "cell_type": "code",
      "source": [
        "#6\n",
        "import pandas as pd\n",
        "df=pd.read_csv('https://people.sc.fsu.edu/~jburkardt/data/csv/airtravel.csv')\n",
        "df.columns = df.columns.str.replace('\"','').str.strip()\n",
        "max_month=df.loc[df[\"1958\"].idxmax(),\"Month\"]\n",
        "min_month=df.loc[df[\"1958\"].idxmin(),\"Month\"]\n",
        "max_value = df[\"1958\"].max()\n",
        "min_value = df[\"1958\"].min()\n",
        "print(\"Highest passenger in 1958:\",max_month,\"_\",max_value )\n",
        "print(\"Lowest passengers in 1958:\",min_month,\"_\",min_value )"
      ],
      "metadata": {
        "colab": {
          "base_uri": "https://localhost:8080/"
        },
        "id": "nFaikjvYeQ-d",
        "outputId": "fc3f707b-f7bc-4697-fa2d-197ac2361649"
      },
      "execution_count": null,
      "outputs": [
        {
          "output_type": "stream",
          "name": "stdout",
          "text": [
            "Highest passenger in 1958: AUG _ 505\n",
            "Lowest passengers in 1958: NOV _ 310\n"
          ]
        }
      ]
    },
    {
      "cell_type": "markdown",
      "source": [
        "7.In pandas the .groupby() function is used to split data into groups based on some criteria and can perform operations on each groups such as aggregation ,filtration,.. ."
      ],
      "metadata": {
        "id": "GxdRV56NlJ25"
      }
    },
    {
      "cell_type": "code",
      "source": [
        "import pandas as pd\n",
        "data={\n",
        "    'category': ['A','B','A','B','A','B'],\n",
        "    ' value ' : [10,20,30,40,50,60]\n",
        "}\n",
        "df=pd.DataFrame(data)\n",
        "grouped=df.groupby('category')\n",
        "for name, group in grouped:\n",
        "    print(f\"Group:{name}\")\n",
        "    print(group)"
      ],
      "metadata": {
        "colab": {
          "base_uri": "https://localhost:8080/"
        },
        "id": "DNe1cXl9mBlI",
        "outputId": "129c4020-50d0-4407-b98c-aa378172b659"
      },
      "execution_count": null,
      "outputs": [
        {
          "output_type": "stream",
          "name": "stdout",
          "text": [
            "Group:A\n",
            "  category   value \n",
            "0        A       10\n",
            "2        A       30\n",
            "4        A       50\n",
            "Group:B\n",
            "  category   value \n",
            "1        B       20\n",
            "3        B       40\n",
            "5        B       60\n"
          ]
        }
      ]
    },
    {
      "cell_type": "code",
      "source": [
        "#8.\n",
        "import seaborn as sns\n",
        "import pandas as pd\n",
        "titanic = sns.load_dataset('titanic')\n",
        "missing_values=titanic.isnull().sum()\n",
        "print(missing_values)"
      ],
      "metadata": {
        "colab": {
          "base_uri": "https://localhost:8080/"
        },
        "id": "vYyd2wDewOKb",
        "outputId": "14c84c69-4790-4de3-f5e8-3c98b92774f3"
      },
      "execution_count": null,
      "outputs": [
        {
          "output_type": "stream",
          "name": "stdout",
          "text": [
            "survived         0\n",
            "pclass           0\n",
            "sex              0\n",
            "age            177\n",
            "sibsp            0\n",
            "parch            0\n",
            "fare             0\n",
            "embarked         2\n",
            "class            0\n",
            "who              0\n",
            "adult_male       0\n",
            "deck           688\n",
            "embark_town      2\n",
            "alive            0\n",
            "alone            0\n",
            "dtype: int64\n"
          ]
        }
      ]
    },
    {
      "cell_type": "code",
      "source": [
        "#9\n",
        "import seaborn as sns\n",
        "import matplotlib.pyplot as plt\n",
        "titanic = sns.load_dataset(\"titanic\")\n",
        "plt.figure(figsize=(8,5))\n",
        "titanic[\"age\"].hist(bins=30, edgecolor='black')\n",
        "plt.title(\"Age Distribution of Titanic Passengers\")\n",
        "plt.xlabel(\"Age\")\n",
        "plt.ylabel(\"Frequency\")\n",
        "plt.grid(False)\n",
        "plt.tight_layout()\n",
        "plt.show()"
      ],
      "metadata": {
        "colab": {
          "base_uri": "https://localhost:8080/",
          "height": 200
        },
        "id": "zoZnRIYV2zVr",
        "outputId": "e8e55097-5e43-4d57-cdc1-ca42aa74ab31"
      },
      "execution_count": null,
      "outputs": [
        {
          "output_type": "display_data",
          "data": {
            "text/plain": [
              "<Figure size 800x500 with 1 Axes>"
            ],
            "image/png": "[encoded data removed]"
          },
          "metadata": {}
        }
      ]
    },
    {
      "cell_type": "markdown",
      "source": [
        "I observe that:\n",
        "The histogram is right-skewed .\n",
        "Most passengers are clustered in their 20s -30s.\n",
        "There's smaller group of young children, and fewer older adults\n",
        "\n",
        "The skew might be due to :\n",
        "The socio-economic profile or travelers .\n",
        "Fewer elderly people taking transatlantic trips .\n",
        "Presence of families with children ."
      ],
      "metadata": {
        "id": "ugFsmVCv40af"
      }
    },
    {
      "cell_type": "markdown",
      "source": [
        "10.\n",
        "A high std means values are more spread out - there's more variability."
      ],
      "metadata": {
        "id": "qo5ZvL4e6sdh"
      }
    },
    {
      "cell_type": "code",
      "source": [
        "#Example\n",
        "import numpy as np\n",
        "low_std = [50,51,49,50,52,48,50]\n",
        "high_std = [20,80,5,100,60,10,95]\n",
        "print(\"Low std list:\", low_std)\n",
        "print(\"Standard Deviation:\", np.std(low_std))\n",
        "print(\"\\nHigh std list:\", high_std)\n",
        "print(\"Standard Deviation:\", np.std(high_std))"
      ],
      "metadata": {
        "colab": {
          "base_uri": "https://localhost:8080/"
        },
        "id": "k1a5iRHC7IkU",
        "outputId": "6f7e1677-fa8a-447a-cb01-303f8067a78a"
      },
      "execution_count": null,
      "outputs": [
        {
          "output_type": "stream",
          "name": "stdout",
          "text": [
            "Low std list: [50, 51, 49, 50, 52, 48, 50]\n",
            "Standard Deviation: 1.1952286093343936\n",
            "\n",
            "High std list: [20, 80, 5, 100, 60, 10, 95]\n",
            "Standard Deviation: 37.78294615839484\n"
          ]
        }
      ]
    },
    {
      "cell_type": "markdown",
      "source": [
        "11.\n",
        "Missing data can seriously affect the accuracy and fairness of results in real world scenarios.Here are some real world problems\n",
        "1,Healthcare and Medical Diagnosis\n",
        "2,Banking and Credit Scoring"
      ],
      "metadata": {
        "id": "fXdtPnqG9YJW"
      }
    }
  ]
}